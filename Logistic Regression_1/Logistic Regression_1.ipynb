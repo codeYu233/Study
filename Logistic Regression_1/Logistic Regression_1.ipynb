{
 "cells": [
  {
   "cell_type": "code",
   "execution_count": 1,
   "id": "76aec449",
   "metadata": {},
   "outputs": [],
   "source": [
    "import numpy as np\n",
    "import pandas as pd\n",
    "import matplotlib.pyplot as plt"
   ]
  },
  {
   "cell_type": "code",
   "execution_count": 2,
   "id": "1902f626",
   "metadata": {},
   "outputs": [
    {
     "data": {
      "text/html": [
       "<div>\n",
       "<style scoped>\n",
       "    .dataframe tbody tr th:only-of-type {\n",
       "        vertical-align: middle;\n",
       "    }\n",
       "\n",
       "    .dataframe tbody tr th {\n",
       "        vertical-align: top;\n",
       "    }\n",
       "\n",
       "    .dataframe thead th {\n",
       "        text-align: right;\n",
       "    }\n",
       "</style>\n",
       "<table border=\"1\" class=\"dataframe\">\n",
       "  <thead>\n",
       "    <tr style=\"text-align: right;\">\n",
       "      <th></th>\n",
       "      <th>Exam1</th>\n",
       "      <th>Exam2</th>\n",
       "      <th>Accepted</th>\n",
       "    </tr>\n",
       "  </thead>\n",
       "  <tbody>\n",
       "    <tr>\n",
       "      <th>0</th>\n",
       "      <td>34.623660</td>\n",
       "      <td>78.024693</td>\n",
       "      <td>0</td>\n",
       "    </tr>\n",
       "    <tr>\n",
       "      <th>1</th>\n",
       "      <td>30.286711</td>\n",
       "      <td>43.894998</td>\n",
       "      <td>0</td>\n",
       "    </tr>\n",
       "    <tr>\n",
       "      <th>2</th>\n",
       "      <td>35.847409</td>\n",
       "      <td>72.902198</td>\n",
       "      <td>0</td>\n",
       "    </tr>\n",
       "    <tr>\n",
       "      <th>3</th>\n",
       "      <td>60.182599</td>\n",
       "      <td>86.308552</td>\n",
       "      <td>1</td>\n",
       "    </tr>\n",
       "    <tr>\n",
       "      <th>4</th>\n",
       "      <td>79.032736</td>\n",
       "      <td>75.344376</td>\n",
       "      <td>1</td>\n",
       "    </tr>\n",
       "  </tbody>\n",
       "</table>\n",
       "</div>"
      ],
      "text/plain": [
       "       Exam1      Exam2  Accepted\n",
       "0  34.623660  78.024693         0\n",
       "1  30.286711  43.894998         0\n",
       "2  35.847409  72.902198         0\n",
       "3  60.182599  86.308552         1\n",
       "4  79.032736  75.344376         1"
      ]
     },
     "execution_count": 2,
     "metadata": {},
     "output_type": "execute_result"
    }
   ],
   "source": [
    "path='ex2data1.txt'\n",
    "data=pd.read_csv(path,names=['Exam1','Exam2','Accepted'])\n",
    "data.head()"
   ]
  },
  {
   "cell_type": "code",
   "execution_count": 4,
   "id": "206ac34f",
   "metadata": {},
   "outputs": [
    {
     "data": {
      "image/png": "[encoded data removed]",
      "text/plain": [
       "<Figure size 640x480 with 1 Axes>"
      ]
     },
     "metadata": {},
     "output_type": "display_data"
    }
   ],
   "source": [
    "fig,ax=plt.subplots()\n",
    "ax.scatter(data[data['Accepted']==0]['Exam1'],data[data['Accepted']==0]['Exam2'],c='r',marker='x',label='y=0')\n",
    "ax.scatter(data[data['Accepted']==1]['Exam1'],data[data['Accepted']==1]['Exam2'],c='b',marker='o',label='y=1')\n",
    "ax.legend()\n",
    "ax.set(xlabel='exam1',ylabel='exam2')\n",
    "plt.show()"
   ]
  },
  {
   "cell_type": "code",
   "execution_count": 5,
   "id": "47b6a77c",
   "metadata": {},
   "outputs": [],
   "source": [
    "def get_Xy(data):\n",
    "    \n",
    "    data.insert(0,'ones',1)\n",
    "    X_=data.iloc[:,0:-1]\n",
    "    X=X_.values\n",
    "    \n",
    "    y_=data.iloc[:,-1]\n",
    "    y=y_.values.reshape(len(y_),1)\n",
    "    \n",
    "    return X,y"
   ]
  },
  {
   "cell_type": "code",
   "execution_count": 6,
   "id": "576dae3f",
   "metadata": {},
   "outputs": [],
   "source": [
    "X,y=get_Xy(data)"
   ]
  },
  {
   "cell_type": "code",
   "execution_count": 7,
   "id": "2eab605e",
   "metadata": {},
   "outputs": [
    {
     "data": {
      "text/plain": [
       "(100, 3)"
      ]
     },
     "execution_count": 7,
     "metadata": {},
     "output_type": "execute_result"
    }
   ],
   "source": [
    "X.shape"
   ]
  },
  {
   "cell_type": "code",
   "execution_count": 8,
   "id": "bae3d5ec",
   "metadata": {},
   "outputs": [
    {
     "data": {
      "text/plain": [
       "(100, 1)"
      ]
     },
     "execution_count": 8,
     "metadata": {},
     "output_type": "execute_result"
    }
   ],
   "source": [
    "y.shape"
   ]
  },
  {
   "cell_type": "code",
   "execution_count": 9,
   "id": "b3c9110a",
   "metadata": {},
   "outputs": [],
   "source": [
    "def sigmoid(z):\n",
    "    return 1/(1+np.exp(-z))"
   ]
  },
  {
   "cell_type": "code",
   "execution_count": 10,
   "id": "a44dd336",
   "metadata": {},
   "outputs": [],
   "source": [
    "def costFunction(X,y,theta):\n",
    "    \n",
    "    A=sigmoid(X@theta)\n",
    "    \n",
    "    first=y*np.log(A)\n",
    "    second=(1-y)*np.log(1-A)\n",
    "    \n",
    "    return -np.sum(first+second)/len(X)"
   ]
  },
  {
   "cell_type": "code",
   "execution_count": 11,
   "id": "f6105a77",
   "metadata": {},
   "outputs": [
    {
     "data": {
      "text/plain": [
       "(3, 1)"
      ]
     },
     "execution_count": 11,
     "metadata": {},
     "output_type": "execute_result"
    }
   ],
   "source": [
    "theta=np.zeros((3,1))\n",
    "theta.shape"
   ]
  },
  {
   "cell_type": "code",
   "execution_count": 12,
   "id": "d554418e",
   "metadata": {},
   "outputs": [
    {
     "name": "stdout",
     "output_type": "stream",
     "text": [
      "0.6931471805599453\n"
     ]
    }
   ],
   "source": [
    "cost_init=costFunction(X,y,theta)\n",
    "print(cost_init)"
   ]
  },
  {
   "cell_type": "code",
   "execution_count": 13,
   "id": "eba076c4",
   "metadata": {},
   "outputs": [],
   "source": [
    "def gradientDescent(X,y,theta,alpha,iters):\n",
    "    m=len(X)\n",
    "    costs=[]\n",
    "    \n",
    "    for i in range(iters):\n",
    "        theta=theta-X.T@(sigmoid(X@theta)-y)*alpha/m\n",
    "        cost=costFunction(X,y,theta)\n",
    "        costs.append(cost)\n",
    "        if i%1000==0:\n",
    "            print(cost)\n",
    "    return costs,theta"
   ]
  },
  {
   "cell_type": "code",
   "execution_count": 14,
   "id": "4d9550fa",
   "metadata": {},
   "outputs": [],
   "source": [
    "alpha=0.004\n",
    "iters=200000"
   ]
  },
  {
   "cell_type": "code",
   "execution_count": 16,
   "id": "ecaae546",
   "metadata": {},
   "outputs": [
    {
     "name": "stdout",
     "output_type": "stream",
     "text": [
      "1.988653857893008\n",
      "3.078170019864155\n",
      "5.487009635362496\n",
      "1.8519433661332634\n",
      "2.955128942408359\n",
      "5.438688730769618\n",
      "1.8046128090728504\n",
      "2.8312715776074047\n",
      "5.3886531633606145\n",
      "1.7561538117121558\n",
      "2.706676380747814\n",
      "5.3365673644957425\n",
      "1.7062807047694803\n",
      "2.581850851905427\n",
      "5.281774101800353\n",
      "1.6544129958512044\n",
      "2.4578430947435774\n",
      "5.223255119969365\n",
      "1.5996612097145562\n",
      "2.3362477519414644\n",
      "5.159653459570274\n",
      "1.5408871901849082\n",
      "2.2190492038468905\n",
      "5.089387088751128\n",
      "1.4768567851081478\n",
      "2.108268509053651\n",
      "5.010845104587983\n",
      "1.4064493632805855\n",
      "2.005433890383272\n",
      "4.9225734611717336\n",
      "1.3288041261254449\n",
      "1.9109646054893654\n",
      "4.823257484826611\n",
      "1.2432202250971682\n",
      "1.82358661215214\n",
      "4.711246821296763\n",
      "1.1486277932139566\n",
      "1.7397667362447995\n",
      "4.583257400457349\n",
      "1.042347830600668\n",
      "1.6525865746034036\n",
      "4.430932868329269\n",
      "0.9166267386002189\n",
      "1.5465331276550842\n",
      "4.224624720512681\n",
      "0.7330944584991158\n",
      "3.892092635050367\n",
      "0.6587030517597924\n",
      "0.5171612492856659\n",
      "0.5265817260757523\n",
      "0.24677888164957668\n",
      "1.1760334011243005\n",
      "0.2575489729486098\n",
      "2.8864762106482074\n",
      "0.35299476849272876\n",
      "0.40847433012350964\n",
      "1.2821815711128135\n",
      "0.27733151607879974\n",
      "0.3195271294187685\n",
      "2.2248602056378255\n",
      "0.24685511594178813\n",
      "0.38166378472399515\n",
      "2.581630650982664\n",
      "0.9179019178741299\n",
      "0.26101110563961527\n",
      "0.6702987896218202\n",
      "0.23501129482522146\n",
      "0.24673205580124333\n",
      "0.23331620407743536\n",
      "0.7723336107129478\n",
      "0.7752294822644417\n",
      "0.23519712532418846\n",
      "0.2333729006026845\n",
      "0.42612548005024126\n",
      "0.24296555172746892\n",
      "0.47952964480491017\n",
      "0.7532360588029163\n",
      "0.4411192392633486\n",
      "0.7642111336631335\n",
      "0.7585114254900174\n",
      "0.8359148369607542\n",
      "0.8295146482532924\n",
      "0.8175088616671082\n",
      "0.8029493834254923\n",
      "0.778388193400748\n",
      "0.7721694483506232\n",
      "0.7651688728165905\n",
      "0.7572263246094606\n",
      "0.748130025278498\n",
      "0.7375765035245254\n",
      "0.7251015127593942\n",
      "0.7099235863070872\n",
      "0.6905102607122519\n",
      "0.6628695333062443\n",
      "0.611172582687147\n",
      "0.5973798439298005\n",
      "0.5954589193190913\n",
      "0.5934222891331606\n",
      "0.5912697716043638\n",
      "0.5890015783267808\n",
      "0.5866183207409337\n",
      "0.5841210138360676\n",
      "0.5815110757202879\n",
      "0.578790322680665\n",
      "0.5759609594531133\n",
      "0.5730255645466457\n",
      "0.5699870706146286\n",
      "0.5668487400299691\n",
      "0.5636141359932761\n",
      "0.560287089672429\n",
      "0.5568716640280338\n",
      "0.553372115110962\n",
      "0.5497928517168437\n",
      "0.5461383943407595\n",
      "0.5424133343897877\n",
      "0.5386222945812014\n",
      "0.5347698913826789\n",
      "0.530860700244111\n",
      "0.5268992242363651\n",
      "0.5228898665606818\n",
      "0.5188369072328135\n",
      "0.5147444840885292\n",
      "0.5106165781096074\n",
      "0.5064570029386506\n",
      "0.502269398341621\n",
      "0.49805722729098834\n",
      "0.4938237762808521\n",
      "0.48957215844708957\n",
      "0.48530531904839874\n",
      "0.48102604286521533\n",
      "0.4767369630892385\n",
      "0.47244057130370054\n",
      "0.4681392281896761\n",
      "0.46383517463424695\n",
      "0.4595305429591592\n",
      "0.45522736803192265\n",
      "0.4509275980634711\n",
      "0.446633104936153\n",
      "0.4423456939422086\n",
      "0.438067112845826\n",
      "0.4337990602103124\n",
      "0.4295431929569303\n",
      "0.42530113314242135\n",
      "0.4210744739593942\n",
      "0.4168647849771311\n",
      "0.4126736166505606\n",
      "0.40850250413250555\n",
      "0.4043529704287932\n",
      "0.40022652893825567\n",
      "0.39612468541999774\n",
      "0.39204893942873814\n",
      "0.38800078525636933\n",
      "0.38398171241402923\n",
      "0.37999320568416634\n",
      "0.37603674476697285\n",
      "0.37211380354027235\n",
      "0.36822584894664373\n",
      "0.36437433951685455\n",
      "0.36056072353459834\n",
      "0.3567864368445493\n",
      "0.3530529003038543\n",
      "0.34936151687703915\n",
      "0.3457136683754778\n",
      "0.34211071184567887\n",
      "0.3385539756155825\n",
      "0.33504475501441816\n",
      "0.3315843077897697\n",
      "0.3281738492549497\n",
      "0.32481454721008535\n",
      "0.3215075166909233\n",
      "0.3182538146103158\n",
      "0.31505443436739416\n",
      "0.31191030050845187\n",
      "0.3088222635305324\n",
      "0.3057910949235661\n",
      "0.3028174825488249\n",
      "0.29990202645017133\n",
      "0.29704523519005305\n",
      "0.29424752279414096\n",
      "0.29150920637772076\n",
      "0.28883050451272285\n",
      "0.2862115363784093\n",
      "0.2836523217208816\n",
      "0.28115278162806534\n",
      "0.2787127401082725\n",
      "0.2763319264422417\n",
      "0.274009978262418\n",
      "0.2717464452984774\n",
      "0.26954079371619516\n",
      "0.2673924109676592\n",
      "0.2653006110645105\n",
      "0.2632646401826327\n",
      "0.26128368250644224\n",
      "0.25935686622280724\n",
      "0.2574832695792424\n",
      "0.25566192692707773\n",
      "0.2538918346777987\n",
      "0.25217195710954576\n",
      "0.2505012319694711\n",
      "0.24887857582740658\n"
     ]
    }
   ],
   "source": [
    "costs,theta_final=gradientDescent(X,y,theta,alpha,iters)"
   ]
  },
  {
   "cell_type": "code",
   "execution_count": 17,
   "id": "378f539a",
   "metadata": {},
   "outputs": [
    {
     "data": {
      "text/plain": [
       "array([[-23.77288372],\n",
       "       [  0.20687383],\n",
       "       [  0.19997746]])"
      ]
     },
     "execution_count": 17,
     "metadata": {},
     "output_type": "execute_result"
    }
   ],
   "source": [
    "theta_final"
   ]
  },
  {
   "cell_type": "code",
   "execution_count": 21,
   "id": "1c651d5e",
   "metadata": {},
   "outputs": [],
   "source": [
    "def predict(X,theta):\n",
    "    prob=sigmoid(X@theta)\n",
    "    return [1 if x>=0.5 else 0 for x in prob]"
   ]
  },
  {
   "cell_type": "code",
   "execution_count": 22,
   "id": "95173289",
   "metadata": {},
   "outputs": [
    {
     "name": "stdout",
     "output_type": "stream",
     "text": [
      "0.91\n"
     ]
    }
   ],
   "source": [
    "y_=np.array(predict(X,theta_final))\n",
    "y_pre=y_.reshape(len(y_),1)\n",
    "\n",
    "acc = np.mean(y_pre==y)\n",
    "\n",
    "print(acc)"
   ]
  },
  {
   "cell_type": "code",
   "execution_count": 18,
   "id": "39bd2d51",
   "metadata": {},
   "outputs": [],
   "source": [
    "coef1=-theta_final[0,0]/theta_final[2,0]\n",
    "coef2=-theta_final[1,0]/theta_final[2,0]"
   ]
  },
  {
   "cell_type": "code",
   "execution_count": 20,
   "id": "98417293",
   "metadata": {},
   "outputs": [
    {
     "data": {
      "image/png": "[encoded data removed]",
      "text/plain": [
       "<Figure size 640x480 with 1 Axes>"
      ]
     },
     "metadata": {},
     "output_type": "display_data"
    }
   ],
   "source": [
    "x=np.linspace(20,100,100)\n",
    "f=coef1+coef2*x\n",
    "\n",
    "fig,ax=plt.subplots()\n",
    "ax.scatter(data[data['Accepted']==0]['Exam1'],data[data['Accepted']==0]['Exam2'],c='r',marker='x',label='y=0')\n",
    "ax.scatter(data[data['Accepted']==1]['Exam1'],data[data['Accepted']==1]['Exam2'],c='b',marker='o',label='y=1')\n",
    "ax.legend()\n",
    "ax.set(xlabel='exam1',ylabel='exam2')\n",
    "ax.plot(x,f,c='g')\n",
    "plt.show()"
   ]
  }
 ],
 "metadata": {
  "kernelspec": {
   "display_name": "Python 3 (ipykernel)",
   "language": "python",
   "name": "python3"
  },
  "language_info": {
   "codemirror_mode": {
    "name": "ipython",
    "version": 3
   },
   "file_extension": ".py",
   "mimetype": "text/x-python",
   "name": "python",
   "nbconvert_exporter": "python",
   "pygments_lexer": "ipython3",
   "version": "3.11.4"
  }
 },
 "nbformat": 4,
 "nbformat_minor": 5
}
