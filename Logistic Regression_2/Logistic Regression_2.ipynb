{
 "cells": [
  {
   "cell_type": "code",
   "execution_count": 1,
   "id": "b44bba9b",
   "metadata": {},
   "outputs": [],
   "source": [
    "import numpy as np\n",
    "import pandas as pd\n",
    "import matplotlib.pyplot as plt"
   ]
  },
  {
   "cell_type": "code",
   "execution_count": 2,
   "id": "97b98039",
   "metadata": {},
   "outputs": [
    {
     "data": {
      "text/html": [
       "<div>\n",
       "<style scoped>\n",
       "    .dataframe tbody tr th:only-of-type {\n",
       "        vertical-align: middle;\n",
       "    }\n",
       "\n",
       "    .dataframe tbody tr th {\n",
       "        vertical-align: top;\n",
       "    }\n",
       "\n",
       "    .dataframe thead th {\n",
       "        text-align: right;\n",
       "    }\n",
       "</style>\n",
       "<table border=\"1\" class=\"dataframe\">\n",
       "  <thead>\n",
       "    <tr style=\"text-align: right;\">\n",
       "      <th></th>\n",
       "      <th>Test1</th>\n",
       "      <th>Test2</th>\n",
       "      <th>Accepted</th>\n",
       "    </tr>\n",
       "  </thead>\n",
       "  <tbody>\n",
       "    <tr>\n",
       "      <th>0</th>\n",
       "      <td>0.051267</td>\n",
       "      <td>0.69956</td>\n",
       "      <td>1</td>\n",
       "    </tr>\n",
       "    <tr>\n",
       "      <th>1</th>\n",
       "      <td>-0.092742</td>\n",
       "      <td>0.68494</td>\n",
       "      <td>1</td>\n",
       "    </tr>\n",
       "    <tr>\n",
       "      <th>2</th>\n",
       "      <td>-0.213710</td>\n",
       "      <td>0.69225</td>\n",
       "      <td>1</td>\n",
       "    </tr>\n",
       "    <tr>\n",
       "      <th>3</th>\n",
       "      <td>-0.375000</td>\n",
       "      <td>0.50219</td>\n",
       "      <td>1</td>\n",
       "    </tr>\n",
       "    <tr>\n",
       "      <th>4</th>\n",
       "      <td>-0.513250</td>\n",
       "      <td>0.46564</td>\n",
       "      <td>1</td>\n",
       "    </tr>\n",
       "  </tbody>\n",
       "</table>\n",
       "</div>"
      ],
      "text/plain": [
       "      Test1    Test2  Accepted\n",
       "0  0.051267  0.69956         1\n",
       "1 -0.092742  0.68494         1\n",
       "2 -0.213710  0.69225         1\n",
       "3 -0.375000  0.50219         1\n",
       "4 -0.513250  0.46564         1"
      ]
     },
     "execution_count": 2,
     "metadata": {},
     "output_type": "execute_result"
    }
   ],
   "source": [
    "path='ex2data2.txt'\n",
    "data=pd.read_csv(path,names=['Test1','Test2','Accepted'])\n",
    "data.head()"
   ]
  },
  {
   "cell_type": "code",
   "execution_count": 3,
   "id": "b9c2855e",
   "metadata": {},
   "outputs": [
    {
     "data": {
      "image/png": "[encoded data removed]",
      "text/plain": [
       "<Figure size 640x480 with 1 Axes>"
      ]
     },
     "metadata": {},
     "output_type": "display_data"
    }
   ],
   "source": [
    "fig,ax=plt.subplots()\n",
    "ax.scatter(data[data['Accepted']==0]['Test1'],data[data['Accepted']==0]['Test2'],c='r',marker='x',label='y=0')\n",
    "ax.scatter(data[data['Accepted']==1]['Test1'],data[data['Accepted']==1]['Test2'],c='b',marker='o',label='y=1')\n",
    "ax.legend()\n",
    "ax.set(xlabel='Test1',ylabel='Test2')\n",
    "plt.show()"
   ]
  },
  {
   "cell_type": "markdown",
   "id": "457df153",
   "metadata": {},
   "source": [
    "# 特征映射"
   ]
  },
  {
   "cell_type": "code",
   "execution_count": 4,
   "id": "a60c1063",
   "metadata": {},
   "outputs": [],
   "source": [
    "def feature_mapping(x1,x2,power):\n",
    "    data={}\n",
    "    \n",
    "    for i in np.arange(power+1):\n",
    "        for j in np.arange(i+1):\n",
    "            data['F{}{}'.format(i-j,j)]=np.power(x1,i-j)*np.power(x2,j)\n",
    "    \n",
    "    return pd.DataFrame(data)"
   ]
  },
  {
   "cell_type": "code",
   "execution_count": 5,
   "id": "8ae3bbf2",
   "metadata": {},
   "outputs": [],
   "source": [
    "x1=data['Test1']\n",
    "x2=data['Test2']"
   ]
  },
  {
   "cell_type": "code",
   "execution_count": 6,
   "id": "860d6045",
   "metadata": {},
   "outputs": [],
   "source": [
    "data2=feature_mapping(x1,x2,6)"
   ]
  },
  {
   "cell_type": "code",
   "execution_count": 7,
   "id": "521455fd",
   "metadata": {},
   "outputs": [
    {
     "data": {
      "text/html": [
       "<div>\n",
       "<style scoped>\n",
       "    .dataframe tbody tr th:only-of-type {\n",
       "        vertical-align: middle;\n",
       "    }\n",
       "\n",
       "    .dataframe tbody tr th {\n",
       "        vertical-align: top;\n",
       "    }\n",
       "\n",
       "    .dataframe thead th {\n",
       "        text-align: right;\n",
       "    }\n",
       "</style>\n",
       "<table border=\"1\" class=\"dataframe\">\n",
       "  <thead>\n",
       "    <tr style=\"text-align: right;\">\n",
       "      <th></th>\n",
       "      <th>F00</th>\n",
       "      <th>F10</th>\n",
       "      <th>F01</th>\n",
       "      <th>F20</th>\n",
       "      <th>F11</th>\n",
       "      <th>F02</th>\n",
       "      <th>F30</th>\n",
       "      <th>F21</th>\n",
       "      <th>F12</th>\n",
       "      <th>F03</th>\n",
       "      <th>...</th>\n",
       "      <th>F23</th>\n",
       "      <th>F14</th>\n",
       "      <th>F05</th>\n",
       "      <th>F60</th>\n",
       "      <th>F51</th>\n",
       "      <th>F42</th>\n",
       "      <th>F33</th>\n",
       "      <th>F24</th>\n",
       "      <th>F15</th>\n",
       "      <th>F06</th>\n",
       "    </tr>\n",
       "  </thead>\n",
       "  <tbody>\n",
       "    <tr>\n",
       "      <th>0</th>\n",
       "      <td>1.0</td>\n",
       "      <td>0.051267</td>\n",
       "      <td>0.69956</td>\n",
       "      <td>0.002628</td>\n",
       "      <td>0.035864</td>\n",
       "      <td>0.489384</td>\n",
       "      <td>0.000135</td>\n",
       "      <td>0.001839</td>\n",
       "      <td>0.025089</td>\n",
       "      <td>0.342354</td>\n",
       "      <td>...</td>\n",
       "      <td>0.000900</td>\n",
       "      <td>0.012278</td>\n",
       "      <td>0.167542</td>\n",
       "      <td>1.815630e-08</td>\n",
       "      <td>2.477505e-07</td>\n",
       "      <td>0.000003</td>\n",
       "      <td>0.000046</td>\n",
       "      <td>0.000629</td>\n",
       "      <td>0.008589</td>\n",
       "      <td>0.117206</td>\n",
       "    </tr>\n",
       "    <tr>\n",
       "      <th>1</th>\n",
       "      <td>1.0</td>\n",
       "      <td>-0.092742</td>\n",
       "      <td>0.68494</td>\n",
       "      <td>0.008601</td>\n",
       "      <td>-0.063523</td>\n",
       "      <td>0.469143</td>\n",
       "      <td>-0.000798</td>\n",
       "      <td>0.005891</td>\n",
       "      <td>-0.043509</td>\n",
       "      <td>0.321335</td>\n",
       "      <td>...</td>\n",
       "      <td>0.002764</td>\n",
       "      <td>-0.020412</td>\n",
       "      <td>0.150752</td>\n",
       "      <td>6.362953e-07</td>\n",
       "      <td>-4.699318e-06</td>\n",
       "      <td>0.000035</td>\n",
       "      <td>-0.000256</td>\n",
       "      <td>0.001893</td>\n",
       "      <td>-0.013981</td>\n",
       "      <td>0.103256</td>\n",
       "    </tr>\n",
       "    <tr>\n",
       "      <th>2</th>\n",
       "      <td>1.0</td>\n",
       "      <td>-0.213710</td>\n",
       "      <td>0.69225</td>\n",
       "      <td>0.045672</td>\n",
       "      <td>-0.147941</td>\n",
       "      <td>0.479210</td>\n",
       "      <td>-0.009761</td>\n",
       "      <td>0.031616</td>\n",
       "      <td>-0.102412</td>\n",
       "      <td>0.331733</td>\n",
       "      <td>...</td>\n",
       "      <td>0.015151</td>\n",
       "      <td>-0.049077</td>\n",
       "      <td>0.158970</td>\n",
       "      <td>9.526844e-05</td>\n",
       "      <td>-3.085938e-04</td>\n",
       "      <td>0.001000</td>\n",
       "      <td>-0.003238</td>\n",
       "      <td>0.010488</td>\n",
       "      <td>-0.033973</td>\n",
       "      <td>0.110047</td>\n",
       "    </tr>\n",
       "    <tr>\n",
       "      <th>3</th>\n",
       "      <td>1.0</td>\n",
       "      <td>-0.375000</td>\n",
       "      <td>0.50219</td>\n",
       "      <td>0.140625</td>\n",
       "      <td>-0.188321</td>\n",
       "      <td>0.252195</td>\n",
       "      <td>-0.052734</td>\n",
       "      <td>0.070620</td>\n",
       "      <td>-0.094573</td>\n",
       "      <td>0.126650</td>\n",
       "      <td>...</td>\n",
       "      <td>0.017810</td>\n",
       "      <td>-0.023851</td>\n",
       "      <td>0.031940</td>\n",
       "      <td>2.780914e-03</td>\n",
       "      <td>-3.724126e-03</td>\n",
       "      <td>0.004987</td>\n",
       "      <td>-0.006679</td>\n",
       "      <td>0.008944</td>\n",
       "      <td>-0.011978</td>\n",
       "      <td>0.016040</td>\n",
       "    </tr>\n",
       "    <tr>\n",
       "      <th>4</th>\n",
       "      <td>1.0</td>\n",
       "      <td>-0.513250</td>\n",
       "      <td>0.46564</td>\n",
       "      <td>0.263426</td>\n",
       "      <td>-0.238990</td>\n",
       "      <td>0.216821</td>\n",
       "      <td>-0.135203</td>\n",
       "      <td>0.122661</td>\n",
       "      <td>-0.111283</td>\n",
       "      <td>0.100960</td>\n",
       "      <td>...</td>\n",
       "      <td>0.026596</td>\n",
       "      <td>-0.024128</td>\n",
       "      <td>0.021890</td>\n",
       "      <td>1.827990e-02</td>\n",
       "      <td>-1.658422e-02</td>\n",
       "      <td>0.015046</td>\n",
       "      <td>-0.013650</td>\n",
       "      <td>0.012384</td>\n",
       "      <td>-0.011235</td>\n",
       "      <td>0.010193</td>\n",
       "    </tr>\n",
       "  </tbody>\n",
       "</table>\n",
       "<p>5 rows × 28 columns</p>\n",
       "</div>"
      ],
      "text/plain": [
       "   F00       F10      F01       F20       F11       F02       F30       F21  \\\n",
       "0  1.0  0.051267  0.69956  0.002628  0.035864  0.489384  0.000135  0.001839   \n",
       "1  1.0 -0.092742  0.68494  0.008601 -0.063523  0.469143 -0.000798  0.005891   \n",
       "2  1.0 -0.213710  0.69225  0.045672 -0.147941  0.479210 -0.009761  0.031616   \n",
       "3  1.0 -0.375000  0.50219  0.140625 -0.188321  0.252195 -0.052734  0.070620   \n",
       "4  1.0 -0.513250  0.46564  0.263426 -0.238990  0.216821 -0.135203  0.122661   \n",
       "\n",
       "        F12       F03  ...       F23       F14       F05           F60  \\\n",
       "0  0.025089  0.342354  ...  0.000900  0.012278  0.167542  1.815630e-08   \n",
       "1 -0.043509  0.321335  ...  0.002764 -0.020412  0.150752  6.362953e-07   \n",
       "2 -0.102412  0.331733  ...  0.015151 -0.049077  0.158970  9.526844e-05   \n",
       "3 -0.094573  0.126650  ...  0.017810 -0.023851  0.031940  2.780914e-03   \n",
       "4 -0.111283  0.100960  ...  0.026596 -0.024128  0.021890  1.827990e-02   \n",
       "\n",
       "            F51       F42       F33       F24       F15       F06  \n",
       "0  2.477505e-07  0.000003  0.000046  0.000629  0.008589  0.117206  \n",
       "1 -4.699318e-06  0.000035 -0.000256  0.001893 -0.013981  0.103256  \n",
       "2 -3.085938e-04  0.001000 -0.003238  0.010488 -0.033973  0.110047  \n",
       "3 -3.724126e-03  0.004987 -0.006679  0.008944 -0.011978  0.016040  \n",
       "4 -1.658422e-02  0.015046 -0.013650  0.012384 -0.011235  0.010193  \n",
       "\n",
       "[5 rows x 28 columns]"
      ]
     },
     "execution_count": 7,
     "metadata": {},
     "output_type": "execute_result"
    }
   ],
   "source": [
    "data2.head()"
   ]
  },
  {
   "cell_type": "code",
   "execution_count": 8,
   "id": "48e9c947",
   "metadata": {},
   "outputs": [],
   "source": [
    "X=data2.values"
   ]
  },
  {
   "cell_type": "code",
   "execution_count": 9,
   "id": "2202b312",
   "metadata": {},
   "outputs": [
    {
     "data": {
      "text/plain": [
       "(118, 28)"
      ]
     },
     "execution_count": 9,
     "metadata": {},
     "output_type": "execute_result"
    }
   ],
   "source": [
    "X.shape"
   ]
  },
  {
   "cell_type": "code",
   "execution_count": 10,
   "id": "0dd767d8",
   "metadata": {},
   "outputs": [],
   "source": [
    "y=data.iloc[:,-1].values"
   ]
  },
  {
   "cell_type": "code",
   "execution_count": 11,
   "id": "9a3bf60a",
   "metadata": {},
   "outputs": [
    {
     "data": {
      "text/plain": [
       "(118, 1)"
      ]
     },
     "execution_count": 11,
     "metadata": {},
     "output_type": "execute_result"
    }
   ],
   "source": [
    "y=y.reshape(len(y),1)\n",
    "y.shape"
   ]
  },
  {
   "cell_type": "markdown",
   "id": "95d44f76",
   "metadata": {},
   "source": [
    "## 损失函数"
   ]
  },
  {
   "cell_type": "code",
   "execution_count": 12,
   "id": "eb566304",
   "metadata": {},
   "outputs": [],
   "source": [
    "def sigmoid(z):\n",
    "    return 1/(1+np.exp(-z))"
   ]
  },
  {
   "cell_type": "code",
   "execution_count": 13,
   "id": "3dbb6f17",
   "metadata": {},
   "outputs": [],
   "source": [
    "def costFunction(X,y,theta,lr):\n",
    "    A=sigmoid(X@theta)\n",
    "    \n",
    "    first=y*np.log(A)\n",
    "    second=(1-y)*np.log(1-A)\n",
    "    reg=np.sum(np.power(theta[1:],2))*(lr/(2*len(X)))\n",
    "    \n",
    "    return -np.sum(first + second)/len(X)+reg"
   ]
  },
  {
   "cell_type": "code",
   "execution_count": 14,
   "id": "b669f5bb",
   "metadata": {},
   "outputs": [
    {
     "data": {
      "text/plain": [
       "(28, 1)"
      ]
     },
     "execution_count": 14,
     "metadata": {},
     "output_type": "execute_result"
    }
   ],
   "source": [
    "theta=np.zeros((28,1))\n",
    "theta.shape"
   ]
  },
  {
   "cell_type": "code",
   "execution_count": 15,
   "id": "f58f446b",
   "metadata": {},
   "outputs": [],
   "source": [
    "lamda=1"
   ]
  },
  {
   "cell_type": "code",
   "execution_count": 16,
   "id": "f1ab12e0",
   "metadata": {},
   "outputs": [
    {
     "name": "stdout",
     "output_type": "stream",
     "text": [
      "0.6931471805599454\n"
     ]
    }
   ],
   "source": [
    "cost_init=costFunction(X,y,theta,lamda)\n",
    "print(cost_init)"
   ]
  },
  {
   "cell_type": "markdown",
   "id": "c00862d5",
   "metadata": {},
   "source": [
    "## 梯度下降函数"
   ]
  },
  {
   "cell_type": "code",
   "execution_count": 17,
   "id": "73e74649",
   "metadata": {},
   "outputs": [],
   "source": [
    "def gradientDescent(X,y,theta,alpha,iters,lamda):\n",
    "    \n",
    "    costs=[]\n",
    "    \n",
    "    for i in range(iters):\n",
    "        \n",
    "        reg=theta[1:]*(lamda/len(X))\n",
    "        reg=np.insert(reg,0,values=0,axis=0)\n",
    "        theta=theta - (X.T@(sigmoid(X@theta)-y))*alpha/len(X)-reg\n",
    "        cost=costFunction(X,y,theta,lamda)\n",
    "        costs.append(cost)\n",
    "        \n",
    "        if i%1000==0:\n",
    "            print(cost)\n",
    "            \n",
    "    return theta,costs"
   ]
  },
  {
   "cell_type": "code",
   "execution_count": 18,
   "id": "ad371816",
   "metadata": {},
   "outputs": [],
   "source": [
    "alpha=0.001\n",
    "iters=200000\n",
    "lamda=0.001"
   ]
  },
  {
   "cell_type": "code",
   "execution_count": 19,
   "id": "4214b1df",
   "metadata": {},
   "outputs": [
    {
     "name": "stdout",
     "output_type": "stream",
     "text": [
      "0.693134380798985\n",
      "0.6818650671550655\n",
      "0.672748697667896\n",
      "0.6649382350210216\n",
      "0.6579891999128368\n",
      "0.6516587811169662\n",
      "0.645806149345912\n",
      "0.6403433508679413\n",
      "0.6352109729552581\n",
      "0.6303658897986846\n",
      "0.625774925450325\n",
      "0.621411446085434\n",
      "0.6172534280039077\n",
      "0.613282288876784\n",
      "0.6094821289408\n",
      "0.6058392039109465\n",
      "0.6023415373766955\n",
      "0.5989786231665247\n",
      "0.5957411897406796\n",
      "0.5926210098409752\n",
      "0.5896107446192149\n",
      "0.5867038148430397\n",
      "0.5838942938016073\n",
      "0.5811768178314223\n",
      "0.5785465112720828\n",
      "0.5759989233067381\n",
      "0.5735299746304318\n",
      "0.5711359122705992\n",
      "0.5688132711873028\n",
      "0.5665588415252293\n",
      "0.5643696405879911\n",
      "0.5622428887672918\n",
      "0.5601759887921506\n",
      "0.5581665077721994\n",
      "0.5562121615984903\n",
      "0.5543108013388565\n",
      "0.5524604013255084\n",
      "0.5506590486826008\n",
      "0.5489049340828341\n",
      "0.547196343556383\n",
      "0.5455316512037751\n",
      "0.5439093126878609\n",
      "0.5423278593995745\n",
      "0.5407858932084394\n",
      "0.5392820817223566\n",
      "0.5378151539925351\n",
      "0.536383896608914\n",
      "0.5349871501393716\n",
      "0.5336238058727042\n",
      "0.5322928028309695\n",
      "0.5309931250215412\n",
      "0.5297237989032203\n",
      "0.528483891044156\n",
      "0.5272725059522052\n",
      "0.5260887840608138\n",
      "0.5249318998556108\n",
      "0.523801060128681\n",
      "0.5226955023490345\n",
      "0.521614493139108\n",
      "0.5205573268482757\n",
      "0.5195233242153316\n",
      "0.5185118311127693\n",
      "0.517522217366422\n",
      "0.5165538756446821\n",
      "0.5156062204120886\n",
      "0.5146786869425667\n",
      "0.513770730388052\n",
      "0.5128818248986119\n",
      "0.5120114627905322\n",
      "0.5111591537591327\n",
      "0.5103244241333585\n",
      "0.5095068161694348\n",
      "0.5087058873810841\n",
      "0.5079212099040196\n",
      "0.5071523698925874\n",
      "0.5063989669466041\n",
      "0.5056606135665728\n",
      "0.5049369346355981\n",
      "0.5042275669264421\n",
      "0.5035321586322633\n",
      "0.5028503689196948\n",
      "0.5021818675029982\n",
      "0.5015263342381191\n",
      "0.5008834587355473\n",
      "0.5002529399909577\n",
      "0.499634486032665\n",
      "0.49902781358500103\n",
      "0.4984326477467658\n",
      "0.4978487216839617\n",
      "0.4972757763360699\n",
      "0.49671356013516815\n",
      "0.49616182873723635\n",
      "0.49562034476502925\n",
      "0.4950888775619359\n",
      "0.4945672029562791\n",
      "0.49405510303553657\n",
      "0.49355236592999585\n",
      "0.49305878560538763\n",
      "0.49257416166405826\n",
      "0.4920982991542736\n",
      "0.49163100838726903\n",
      "0.49117210476167483\n",
      "0.49072140859497326\n",
      "0.4902787449616598\n",
      "0.48984394353779454\n",
      "0.4894168384516561\n",
      "0.48899726814021005\n",
      "0.48858507521113836\n",
      "0.4881801063101703\n",
      "0.4877822119934835\n",
      "0.4873912466049452\n",
      "0.48700706815798295\n",
      "0.48662953822187927\n",
      "0.48625852181229895\n",
      "0.4858938872858639\n",
      "0.485535506238602\n",
      "0.48518325340810325\n",
      "0.4848370065792272\n",
      "0.4844966464932087\n",
      "0.4841620567600216\n",
      "0.4838331237738637\n",
      "0.48350973663163216\n",
      "0.48319178705426613\n",
      "0.4828791693108412\n",
      "0.4825717801452999\n",
      "0.4822695187057148\n",
      "0.48197228647597845\n",
      "0.48167998720982685\n",
      "0.48139252686710116\n",
      "0.48110981355215765\n",
      "0.4808317574543443\n",
      "0.4805582707904619\n",
      "0.4802892677491321\n",
      "0.4800246644369971\n",
      "0.47976437882668443\n",
      "0.47950833070646537\n",
      "0.4792564416315435\n",
      "0.47900863487691325\n",
      "0.4787648353917277\n",
      "0.4785249697551193\n",
      "0.47828896613342015\n",
      "0.478056754238729\n",
      "0.4778282652887758\n",
      "0.47760343196803695\n",
      "0.47738218839005475\n",
      "0.47716447006091733\n",
      "0.47695021384385716\n",
      "0.47673935792492955\n",
      "0.47653184177972996\n",
      "0.4763276061411169\n",
      "0.4761265929678997\n",
      "0.47592874541446206\n",
      "0.4757340078012881\n",
      "0.4755423255863549\n",
      "0.4753536453373683\n",
      "0.47516791470480785\n",
      "0.4749850823957551\n",
      "0.47480509814847927\n",
      "0.4746279127077522\n",
      "0.4744534778008714\n",
      "0.4742817461143651\n",
      "0.4741126712713549\n",
      "0.47394620780956104\n",
      "0.4737823111599172\n",
      "0.47362093762579055\n",
      "0.4734620443627714\n",
      "0.4733055893590244\n",
      "0.47315153141617905\n",
      "0.4729998301307436\n",
      "0.47285044587602415\n",
      "0.47270333978453216\n",
      "0.4725584737308694\n",
      "0.4724158103150689\n",
      "0.47227531284638247\n",
      "0.4721369453274973\n",
      "0.47200067243917226\n",
      "0.4718664595252757\n",
      "0.4717342725782179\n",
      "0.47160407822476097\n",
      "0.4714758437121991\n",
      "0.47134953689489356\n",
      "0.4712251262211558\n",
      "0.4711025807204652\n",
      "0.4709818699910128\n",
      "0.47086296418756024\n",
      "0.4707458340096072\n",
      "0.470630450689853\n",
      "0.4705167859829495\n",
      "0.4704048121545338\n",
      "0.47029450197053163\n",
      "0.47018582868672504\n",
      "0.47007876603857873\n",
      "0.46997328823131185\n",
      "0.4698693699302142\n",
      "0.4697669862511967\n",
      "0.4696661127515702\n",
      "0.4695667254210447\n",
      "0.46946880067294744\n",
      "0.46937231533564516\n",
      "0.46927724664417647\n"
     ]
    }
   ],
   "source": [
    "theta_final,costs=gradientDescent(X,y,theta,alpha,iters,lamda)"
   ]
  },
  {
   "cell_type": "code",
   "execution_count": 20,
   "id": "da4bb34f",
   "metadata": {},
   "outputs": [],
   "source": [
    "def predict(X,theta):\n",
    "    \n",
    "    prob=sigmoid(X@theta)\n",
    "    \n",
    "    return [1 if x>=0.5 else 0 for x in prob]"
   ]
  },
  {
   "cell_type": "code",
   "execution_count": 21,
   "id": "dd650787",
   "metadata": {},
   "outputs": [
    {
     "name": "stdout",
     "output_type": "stream",
     "text": [
      "0.8305084745762712\n"
     ]
    }
   ],
   "source": [
    "y_=np.array(predict(X,theta_final))\n",
    "y_pre=y_.reshape(len(y_),1)\n",
    "\n",
    "acc = np.mean(y_pre==y)\n",
    "\n",
    "print(acc)"
   ]
  },
  {
   "cell_type": "code",
   "execution_count": 40,
   "id": "a69c34bd",
   "metadata": {},
   "outputs": [
    {
     "data": {
      "image/png": "[encoded data removed]",
      "text/plain": [
       "<Figure size 640x480 with 1 Axes>"
      ]
     },
     "metadata": {},
     "output_type": "display_data"
    }
   ],
   "source": [
    "x=np.linspace(-1.2,1.2,200)\n",
    "xx,yy=np.meshgrid(x,x)\n",
    "z=feature_mapping(xx.ravel(),yy.ravel(),6).values\n",
    "zz=z@theta_final\n",
    "zz=zz.reshape(xx.shape)\n",
    "\n",
    "fig,ax=plt.subplots()\n",
    "ax.scatter(data[data['Accepted']==0]['Test1'],data[data['Accepted']==0]['Test2'],c='r',marker='x',label='y=0')\n",
    "ax.scatter(data[data['Accepted']==1]['Test1'],data[data['Accepted']==1]['Test2'],c='b',marker='o',label='y=1')\n",
    "ax.legend()\n",
    "ax.set(xlabel='Test1',ylabel='Test2')\n",
    "cs=plt.contour(xx,yy,zz,0)\n",
    "plt.clabel(cs)\n",
    "plt.show()"
   ]
  }
 ],
 "metadata": {
  "kernelspec": {
   "display_name": "Python 3 (ipykernel)",
   "language": "python",
   "name": "python3"
  },
  "language_info": {
   "codemirror_mode": {
    "name": "ipython",
    "version": 3
   },
   "file_extension": ".py",
   "mimetype": "text/x-python",
   "name": "python",
   "nbconvert_exporter": "python",
   "pygments_lexer": "ipython3",
   "version": "3.11.4"
  }
 },
 "nbformat": 4,
 "nbformat_minor": 5
}
