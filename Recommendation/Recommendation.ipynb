{
 "cells": [
  {
   "cell_type": "code",
   "execution_count": 1,
   "id": "ab154b68",
   "metadata": {},
   "outputs": [],
   "source": [
    "import numpy as np\n",
    "import scipy.io as sio\n",
    "import matplotlib.pyplot as plt"
   ]
  },
  {
   "cell_type": "code",
   "execution_count": 2,
   "id": "ed9fe6c8",
   "metadata": {},
   "outputs": [
    {
     "data": {
      "text/plain": [
       "dict_keys(['__header__', '__version__', '__globals__', 'Y', 'R'])"
      ]
     },
     "execution_count": 2,
     "metadata": {},
     "output_type": "execute_result"
    }
   ],
   "source": [
    "mat=sio.loadmat('Recommendation_movies.mat')\n",
    "mat.keys()"
   ]
  },
  {
   "cell_type": "code",
   "execution_count": 3,
   "id": "68c95c25",
   "metadata": {},
   "outputs": [
    {
     "data": {
      "text/plain": [
       "((1682, 943), (1682, 943))"
      ]
     },
     "execution_count": 3,
     "metadata": {},
     "output_type": "execute_result"
    }
   ],
   "source": [
    "Y,R=mat['Y'],mat['R']\n",
    "Y.shape,R.shape"
   ]
  },
  {
   "cell_type": "code",
   "execution_count": 4,
   "id": "fdee837c",
   "metadata": {},
   "outputs": [
    {
     "data": {
      "text/plain": [
       "dict_keys(['__header__', '__version__', '__globals__', 'X', 'Theta', 'num_users', 'num_movies', 'num_features'])"
      ]
     },
     "execution_count": 4,
     "metadata": {},
     "output_type": "execute_result"
    }
   ],
   "source": [
    "param_mat=sio.loadmat('Recommendation_movieParams.mat')\n",
    "param_mat.keys()"
   ]
  },
  {
   "cell_type": "code",
   "execution_count": 5,
   "id": "635c17b2",
   "metadata": {},
   "outputs": [],
   "source": [
    "X,Theta,nu,nm,nf=param_mat['X'],param_mat['Theta'],param_mat['num_users'],param_mat['num_movies'],param_mat['num_features']"
   ]
  },
  {
   "cell_type": "code",
   "execution_count": 6,
   "id": "2eb2fbb8",
   "metadata": {},
   "outputs": [
    {
     "data": {
      "text/plain": [
       "((1682, 10),\n",
       " (943, 10),\n",
       " array([[943]], dtype=uint16),\n",
       " array([[1682]], dtype=uint16),\n",
       " array([[10]], dtype=uint8))"
      ]
     },
     "execution_count": 6,
     "metadata": {},
     "output_type": "execute_result"
    }
   ],
   "source": [
    "X.shape,Theta.shape,nu,nm,nf"
   ]
  },
  {
   "cell_type": "code",
   "execution_count": 7,
   "id": "888f9caf",
   "metadata": {},
   "outputs": [
    {
     "data": {
      "text/plain": [
       "(943, 1682, 10)"
      ]
     },
     "execution_count": 7,
     "metadata": {},
     "output_type": "execute_result"
    }
   ],
   "source": [
    "nu=int(nu)\n",
    "nm=int(nm)\n",
    "nf=int(nf)\n",
    "nu,nm,nf"
   ]
  },
  {
   "cell_type": "code",
   "execution_count": 8,
   "id": "9dc32eb1",
   "metadata": {},
   "outputs": [],
   "source": [
    "def serialize(X,Theta):\n",
    "    return np.append(X.flatten(),Theta.flatten())"
   ]
  },
  {
   "cell_type": "code",
   "execution_count": 9,
   "id": "9117c8d3",
   "metadata": {},
   "outputs": [],
   "source": [
    "def deserialize(params,nm,nu,nf):\n",
    "    X=params[:nm*nf].reshape(nm,nf)\n",
    "    Theta=params[nm*nf:].reshape(nu,nf)\n",
    "    return X,Theta"
   ]
  },
  {
   "cell_type": "code",
   "execution_count": 10,
   "id": "dae21f99",
   "metadata": {},
   "outputs": [],
   "source": [
    "def costFunction(params,Y,R,nm,nu,nf,lamda):\n",
    "    X,Theta=deserialize(params,nm,nu,nf)\n",
    "    error=0.5*np.square((X@Theta.T-Y)*R).sum()\n",
    "    reg1=0.5*lamda*np.square(X).sum()\n",
    "    reg2=0.5*lamda*np.square(Theta).sum()\n",
    "    return error+reg1+reg2"
   ]
  },
  {
   "cell_type": "code",
   "execution_count": 11,
   "id": "a44dd9b5",
   "metadata": {},
   "outputs": [
    {
     "data": {
      "text/plain": [
       "22.224603725685675"
      ]
     },
     "execution_count": 11,
     "metadata": {},
     "output_type": "execute_result"
    }
   ],
   "source": [
    "users=4\n",
    "movies=5\n",
    "features=3\n",
    "X_sub=X[:movies,:features]\n",
    "Theta_sub=Theta[:users,:features]\n",
    "Y_sub=Y[:movies,:users]\n",
    "R_sub=R[:movies,:users]\n",
    "cost1=costFunction(serialize(X_sub,Theta_sub),Y_sub,R_sub,movies,users,features,lamda=0)\n",
    "cost1"
   ]
  },
  {
   "cell_type": "code",
   "execution_count": 12,
   "id": "0af430f6",
   "metadata": {},
   "outputs": [],
   "source": [
    "def costGradient(params,Y,R,nm,nu,nf,lamda):\n",
    "    X,Theta=deserialize(params,nm,nu,nf)\n",
    "    X_grad=((X@Theta.T-Y)*R)@Theta+lamda*X\n",
    "    Theta_grad=((X@Theta.T-Y)*R).T@X+lamda*Theta\n",
    "    return serialize(X_grad,Theta_grad)"
   ]
  },
  {
   "cell_type": "code",
   "execution_count": 13,
   "id": "17097b7b",
   "metadata": {},
   "outputs": [],
   "source": [
    "my_ratings=np.zeros((nm,1))\n",
    "my_ratings[27]=5\n",
    "my_ratings[28]=5\n",
    "my_ratings[49]=5\n",
    "my_ratings[134]=5\n",
    "my_ratings[140]=5\n",
    "my_ratings[175]=5\n",
    "my_ratings[200]=2\n",
    "my_ratings[203]=4\n",
    "my_ratings[226]=5\n",
    "my_ratings[227]=5\n",
    "my_ratings[228]=5\n",
    "my_ratings[229]=5\n",
    "my_ratings[230]=5\n",
    "my_ratings[342]=5\n",
    "my_ratings[402]=5\n",
    "my_ratings[422]=5\n",
    "my_ratings[448]=5\n",
    "my_ratings[449]=5"
   ]
  },
  {
   "cell_type": "code",
   "execution_count": 14,
   "id": "31ec5c36",
   "metadata": {},
   "outputs": [],
   "source": [
    "Y=np.c_[Y,my_ratings]\n",
    "R=np.c_[R,my_ratings!=0]"
   ]
  },
  {
   "cell_type": "code",
   "execution_count": 15,
   "id": "8020e817",
   "metadata": {},
   "outputs": [
    {
     "data": {
      "text/plain": [
       "(1682, 944)"
      ]
     },
     "execution_count": 15,
     "metadata": {},
     "output_type": "execute_result"
    }
   ],
   "source": [
    "Y.shape"
   ]
  },
  {
   "cell_type": "code",
   "execution_count": 16,
   "id": "b8bd0a30",
   "metadata": {},
   "outputs": [],
   "source": [
    "nm,nu=Y.shape"
   ]
  },
  {
   "cell_type": "code",
   "execution_count": 17,
   "id": "d6065c1d",
   "metadata": {},
   "outputs": [],
   "source": [
    "def normalizeRatings(Y,R):\n",
    "    Y_mean=(Y.sum(axis=1)/R.sum(axis=1)).reshape(-1,1)\n",
    "    Y_norm=(Y-Y_mean)*R\n",
    "    return Y_norm,Y_mean"
   ]
  },
  {
   "cell_type": "code",
   "execution_count": 18,
   "id": "866282cc",
   "metadata": {},
   "outputs": [],
   "source": [
    "Y_norm,Y_mean=normalizeRatings(Y,R)"
   ]
  },
  {
   "cell_type": "code",
   "execution_count": 19,
   "id": "b4a1e2d1",
   "metadata": {},
   "outputs": [],
   "source": [
    "X=np.random.random((nm,nf))\n",
    "Theta=np.random.random((nu,nf))\n",
    "params=serialize(X,Theta)\n",
    "lamda=5"
   ]
  },
  {
   "cell_type": "code",
   "execution_count": 20,
   "id": "3b083cbb",
   "metadata": {},
   "outputs": [
    {
     "name": "stderr",
     "output_type": "stream",
     "text": [
      "C:\\Users\\Q\\AppData\\Local\\Temp\\ipykernel_4524\\1772543488.py:2: DeprecationWarning: 'maxiter' has been deprecated in favor of 'maxfun' and will be removed in SciPy 1.11.0.\n",
      "  res=minimize(fun=costFunction,x0=params,args=(Y_norm,R,nm,nu,nf,lamda),method='TNC',jac=costGradient,options={'maxiter':100})\n"
     ]
    }
   ],
   "source": [
    "from scipy.optimize import minimize\n",
    "res=minimize(fun=costFunction,x0=params,args=(Y_norm,R,nm,nu,nf,lamda),method='TNC',jac=costGradient,options={'maxiter':100})"
   ]
  },
  {
   "cell_type": "code",
   "execution_count": 21,
   "id": "84422d9a",
   "metadata": {},
   "outputs": [],
   "source": [
    "params_fit=res.x"
   ]
  },
  {
   "cell_type": "code",
   "execution_count": 22,
   "id": "fe454324",
   "metadata": {},
   "outputs": [],
   "source": [
    "fit_X,fit_Theta=deserialize(params_fit,nm,nu,nf)"
   ]
  },
  {
   "cell_type": "code",
   "execution_count": 23,
   "id": "f005e9db",
   "metadata": {},
   "outputs": [],
   "source": [
    "Y_pred=fit_X@fit_Theta.T"
   ]
  },
  {
   "cell_type": "code",
   "execution_count": 24,
   "id": "35eb7c3d",
   "metadata": {},
   "outputs": [],
   "source": [
    "y_pred=Y_pred[:,-1]+Y_mean.flatten()"
   ]
  },
  {
   "cell_type": "code",
   "execution_count": 25,
   "id": "29ed270d",
   "metadata": {},
   "outputs": [],
   "source": [
    "index=np.argsort(-y_pred)"
   ]
  },
  {
   "cell_type": "code",
   "execution_count": 26,
   "id": "5d89f2de",
   "metadata": {},
   "outputs": [
    {
     "data": {
      "text/plain": [
       "array([ 120,   49,  180,  171,  173,   95,  312,  194, 1466,  209],\n",
       "      dtype=int64)"
      ]
     },
     "execution_count": 26,
     "metadata": {},
     "output_type": "execute_result"
    }
   ],
   "source": [
    "index[:10]"
   ]
  },
  {
   "cell_type": "code",
   "execution_count": 27,
   "id": "16702cc6",
   "metadata": {},
   "outputs": [],
   "source": [
    "movies=[]\n",
    "with open('movie_ids.txt','r',encoding='latin 1')as f:\n",
    "    for line in f:\n",
    "        tokens=line.strip().split(' ')\n",
    "        movies.append(' '.join(tokens[1:]))"
   ]
  },
  {
   "cell_type": "code",
   "execution_count": 28,
   "id": "0f18b26d",
   "metadata": {},
   "outputs": [
    {
     "data": {
      "text/plain": [
       "1682"
      ]
     },
     "execution_count": 28,
     "metadata": {},
     "output_type": "execute_result"
    }
   ],
   "source": [
    "len(movies)"
   ]
  },
  {
   "cell_type": "code",
   "execution_count": 29,
   "id": "b0e046b3",
   "metadata": {},
   "outputs": [
    {
     "name": "stdout",
     "output_type": "stream",
     "text": [
      "120 Independence Day (ID4) (1996) 5.449120842440642\n",
      "49 Star Wars (1977) 5.352125183811118\n",
      "180 Return of the Jedi (1983) 5.319959550159248\n",
      "171 Empire Strikes Back, The (1980) 5.182303379024724\n",
      "173 Raiders of the Lost Ark (1981) 5.170746823498372\n",
      "95 Terminator 2: Judgment Day (1991) 5.109846973143337\n",
      "312 Titanic (1997) 5.042844020713496\n",
      "194 Terminator, The (1984) 5.026389017143506\n",
      "1466 Saint of Fort Washington, The (1993) 5.0090202813542275\n",
      "209 Indiana Jones and the Last Crusade (1989) 5.008614086836323\n"
     ]
    }
   ],
   "source": [
    "for i in range(10):\n",
    "    print(index[i],movies[index[i]],y_pred[index[i]])"
   ]
  }
 ],
 "metadata": {
  "kernelspec": {
   "display_name": "Python 3 (ipykernel)",
   "language": "python",
   "name": "python3"
  },
  "language_info": {
   "codemirror_mode": {
    "name": "ipython",
    "version": 3
   },
   "file_extension": ".py",
   "mimetype": "text/x-python",
   "name": "python",
   "nbconvert_exporter": "python",
   "pygments_lexer": "ipython3",
   "version": "3.11.4"
  }
 },
 "nbformat": 4,
 "nbformat_minor": 5
}
